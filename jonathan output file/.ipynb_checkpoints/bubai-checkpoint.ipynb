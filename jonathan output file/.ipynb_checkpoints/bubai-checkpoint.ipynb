{
 "cells": [
  {
   "cell_type": "code",
   "execution_count": 59,
   "metadata": {},
   "outputs": [],
   "source": [
    "import pandas as pd"
   ]
  },
  {
   "cell_type": "code",
   "execution_count": 60,
   "metadata": {},
   "outputs": [],
   "source": [
    "df = pd.read_csv('image 15.csv')"
   ]
  },
  {
   "cell_type": "code",
   "execution_count": 61,
   "metadata": {},
   "outputs": [
    {
     "data": {
      "text/html": [
       "<div>\n",
       "<style scoped>\n",
       "    .dataframe tbody tr th:only-of-type {\n",
       "        vertical-align: middle;\n",
       "    }\n",
       "\n",
       "    .dataframe tbody tr th {\n",
       "        vertical-align: top;\n",
       "    }\n",
       "\n",
       "    .dataframe thead th {\n",
       "        text-align: right;\n",
       "    }\n",
       "</style>\n",
       "<table border=\"1\" class=\"dataframe\">\n",
       "  <thead>\n",
       "    <tr style=\"text-align: right;\">\n",
       "      <th></th>\n",
       "      <th>Image name</th>\n",
       "      <th>object name</th>\n",
       "      <th>object id</th>\n",
       "      <th>X-centre</th>\n",
       "      <th>Y-centre</th>\n",
       "    </tr>\n",
       "  </thead>\n",
       "  <tbody>\n",
       "    <tr>\n",
       "      <th>0</th>\n",
       "      <td>download (15).jpg.txt</td>\n",
       "      <td>elephant</td>\n",
       "      <td>0</td>\n",
       "      <td>225.5</td>\n",
       "      <td>84.5</td>\n",
       "    </tr>\n",
       "    <tr>\n",
       "      <th>1</th>\n",
       "      <td>download (15).jpg.txt</td>\n",
       "      <td>cow</td>\n",
       "      <td>1</td>\n",
       "      <td>116.0</td>\n",
       "      <td>86.5</td>\n",
       "    </tr>\n",
       "    <tr>\n",
       "      <th>2</th>\n",
       "      <td>download (15).jpg.txt</td>\n",
       "      <td>elephant</td>\n",
       "      <td>2</td>\n",
       "      <td>276.5</td>\n",
       "      <td>83.0</td>\n",
       "    </tr>\n",
       "    <tr>\n",
       "      <th>3</th>\n",
       "      <td>download (15).jpg.txt</td>\n",
       "      <td>cow</td>\n",
       "      <td>3</td>\n",
       "      <td>39.0</td>\n",
       "      <td>98.0</td>\n",
       "    </tr>\n",
       "    <tr>\n",
       "      <th>4</th>\n",
       "      <td>download (15).jpg.txt</td>\n",
       "      <td>cow</td>\n",
       "      <td>4</td>\n",
       "      <td>182.5</td>\n",
       "      <td>100.5</td>\n",
       "    </tr>\n",
       "    <tr>\n",
       "      <th>5</th>\n",
       "      <td>download (15).jpg.txt</td>\n",
       "      <td>cow</td>\n",
       "      <td>5</td>\n",
       "      <td>270.5</td>\n",
       "      <td>83.5</td>\n",
       "    </tr>\n",
       "    <tr>\n",
       "      <th>6</th>\n",
       "      <td>download (15).jpg.txt</td>\n",
       "      <td>elephant</td>\n",
       "      <td>6</td>\n",
       "      <td>78.5</td>\n",
       "      <td>96.0</td>\n",
       "    </tr>\n",
       "    <tr>\n",
       "      <th>7</th>\n",
       "      <td>download (15).jpg.txt</td>\n",
       "      <td>elephant</td>\n",
       "      <td>7</td>\n",
       "      <td>120.5</td>\n",
       "      <td>83.5</td>\n",
       "    </tr>\n",
       "    <tr>\n",
       "      <th>8</th>\n",
       "      <td>download (10).jpg.txt</td>\n",
       "      <td>cat</td>\n",
       "      <td>8</td>\n",
       "      <td>161.5</td>\n",
       "      <td>85.0</td>\n",
       "    </tr>\n",
       "    <tr>\n",
       "      <th>9</th>\n",
       "      <td>download (10).jpg.txt</td>\n",
       "      <td>cup</td>\n",
       "      <td>9</td>\n",
       "      <td>42.0</td>\n",
       "      <td>57.0</td>\n",
       "    </tr>\n",
       "  </tbody>\n",
       "</table>\n",
       "</div>"
      ],
      "text/plain": [
       "              Image name object name  object id  X-centre  Y-centre\n",
       "0  download (15).jpg.txt    elephant          0     225.5      84.5\n",
       "1  download (15).jpg.txt         cow          1     116.0      86.5\n",
       "2  download (15).jpg.txt    elephant          2     276.5      83.0\n",
       "3  download (15).jpg.txt         cow          3      39.0      98.0\n",
       "4  download (15).jpg.txt         cow          4     182.5     100.5\n",
       "5  download (15).jpg.txt         cow          5     270.5      83.5\n",
       "6  download (15).jpg.txt    elephant          6      78.5      96.0\n",
       "7  download (15).jpg.txt    elephant          7     120.5      83.5\n",
       "8  download (10).jpg.txt         cat          8     161.5      85.0\n",
       "9  download (10).jpg.txt         cup          9      42.0      57.0"
      ]
     },
     "execution_count": 61,
     "metadata": {},
     "output_type": "execute_result"
    }
   ],
   "source": [
    "df"
   ]
  },
  {
   "cell_type": "code",
   "execution_count": 62,
   "metadata": {},
   "outputs": [],
   "source": [
    "object_id_name = []"
   ]
  },
  {
   "cell_type": "code",
   "execution_count": 63,
   "metadata": {},
   "outputs": [],
   "source": [
    "x_values = []\n",
    "relations = []\n",
    "for _,row in df.iterrows():\n",
    "    x_values.append(row['X-centre'])\n",
    "    object_name_full = f\"{row['Image name']}_{row['object name']}_{row['object id']}\"\n",
    "    object_id_name.append(object_name_full)"
   ]
  },
  {
   "cell_type": "code",
   "execution_count": 64,
   "metadata": {},
   "outputs": [
    {
     "data": {
      "text/plain": [
       "['download (15).jpg.txt_elephant_0',\n",
       " 'download (15).jpg.txt_cow_1',\n",
       " 'download (15).jpg.txt_elephant_2',\n",
       " 'download (15).jpg.txt_cow_3',\n",
       " 'download (15).jpg.txt_cow_4',\n",
       " 'download (15).jpg.txt_cow_5',\n",
       " 'download (15).jpg.txt_elephant_6',\n",
       " 'download (15).jpg.txt_elephant_7',\n",
       " 'download (10).jpg.txt_cat_8',\n",
       " 'download (10).jpg.txt_cup_9']"
      ]
     },
     "execution_count": 64,
     "metadata": {},
     "output_type": "execute_result"
    }
   ],
   "source": [
    "object_id_name"
   ]
  },
  {
   "cell_type": "code",
   "execution_count": 65,
   "metadata": {},
   "outputs": [],
   "source": [
    "def remove_value(current_element_index, current_list):\n",
    "    if current_element_index==0:\n",
    "        new_list = current_list[1:]\n",
    "        return new_list\n",
    "    new_list = current_list[:current_element_index-1]+current_list[current_element_index:]\n",
    "    return new_list"
   ]
  },
  {
   "cell_type": "code",
   "execution_count": 66,
   "metadata": {},
   "outputs": [],
   "source": [
    "for index,current_element in enumerate(x_values):\n",
    "    new_x_values = remove_value(index, x_values)\n",
    "    for new_element in new_x_values:\n",
    "        if current_element<new_element:\n",
    "            current_element_index = int(f'{x_values.index(current_element)}')\n",
    "            new_element_index = int(f'{x_values.index(new_element)}')\n",
    "            relations.append(f'{object_id_name[current_element_index]} is to the left of {object_id_name[new_element_index]}')\n",
    "        if current_element>new_element:\n",
    "            relations.append(f'{object_id_name[current_element_index]} is to the right of {object_id_name[new_element_index]}')"
   ]
  },
  {
   "cell_type": "code",
   "execution_count": 67,
   "metadata": {},
   "outputs": [
    {
     "data": {
      "text/plain": [
       "['download (10).jpg.txt_cup_9 is to the right of download (15).jpg.txt_elephant_7',\n",
       " 'download (15).jpg.txt_elephant_0 is to the left of download (15).jpg.txt_elephant_2',\n",
       " 'download (15).jpg.txt_elephant_0 is to the right of download (15).jpg.txt_elephant_2',\n",
       " 'download (15).jpg.txt_elephant_0 is to the right of download (15).jpg.txt_elephant_2',\n",
       " 'download (15).jpg.txt_elephant_0 is to the left of download (15).jpg.txt_cow_5',\n",
       " 'download (15).jpg.txt_elephant_0 is to the right of download (15).jpg.txt_cow_5',\n",
       " 'download (15).jpg.txt_elephant_0 is to the right of download (15).jpg.txt_cow_5',\n",
       " 'download (15).jpg.txt_elephant_0 is to the right of download (15).jpg.txt_cow_5',\n",
       " 'download (15).jpg.txt_elephant_0 is to the right of download (15).jpg.txt_cow_5',\n",
       " 'download (15).jpg.txt_cow_1 is to the left of download (15).jpg.txt_elephant_2',\n",
       " 'download (15).jpg.txt_cow_1 is to the right of download (15).jpg.txt_elephant_2',\n",
       " 'download (15).jpg.txt_cow_1 is to the left of download (15).jpg.txt_cow_4',\n",
       " 'download (15).jpg.txt_cow_1 is to the left of download (15).jpg.txt_cow_5',\n",
       " 'download (15).jpg.txt_cow_1 is to the right of download (15).jpg.txt_cow_5',\n",
       " 'download (15).jpg.txt_cow_1 is to the left of download (15).jpg.txt_elephant_7',\n",
       " 'download (15).jpg.txt_cow_1 is to the left of download (10).jpg.txt_cat_8',\n",
       " 'download (15).jpg.txt_cow_1 is to the right of download (10).jpg.txt_cat_8',\n",
       " 'download (15).jpg.txt_cow_1 is to the right of download (10).jpg.txt_cat_8',\n",
       " 'download (15).jpg.txt_cow_1 is to the right of download (10).jpg.txt_cat_8',\n",
       " 'download (15).jpg.txt_cow_1 is to the right of download (10).jpg.txt_cat_8',\n",
       " 'download (15).jpg.txt_cow_1 is to the right of download (10).jpg.txt_cat_8',\n",
       " 'download (15).jpg.txt_cow_1 is to the right of download (10).jpg.txt_cat_8',\n",
       " 'download (15).jpg.txt_cow_1 is to the right of download (10).jpg.txt_cat_8',\n",
       " 'download (15).jpg.txt_cow_1 is to the right of download (10).jpg.txt_cat_8',\n",
       " 'download (15).jpg.txt_cow_1 is to the right of download (10).jpg.txt_cat_8',\n",
       " 'download (15).jpg.txt_cow_3 is to the left of download (15).jpg.txt_elephant_0',\n",
       " 'download (15).jpg.txt_cow_3 is to the left of download (15).jpg.txt_cow_1',\n",
       " 'download (15).jpg.txt_cow_3 is to the left of download (15).jpg.txt_cow_4',\n",
       " 'download (15).jpg.txt_cow_3 is to the left of download (15).jpg.txt_cow_5',\n",
       " 'download (15).jpg.txt_cow_3 is to the left of download (15).jpg.txt_elephant_6',\n",
       " 'download (15).jpg.txt_cow_3 is to the left of download (15).jpg.txt_elephant_7',\n",
       " 'download (15).jpg.txt_cow_3 is to the left of download (10).jpg.txt_cat_8',\n",
       " 'download (15).jpg.txt_cow_3 is to the left of download (10).jpg.txt_cup_9',\n",
       " 'download (15).jpg.txt_cow_4 is to the left of download (15).jpg.txt_elephant_0',\n",
       " 'download (15).jpg.txt_cow_4 is to the right of download (15).jpg.txt_elephant_0',\n",
       " 'download (15).jpg.txt_cow_4 is to the left of download (15).jpg.txt_elephant_2',\n",
       " 'download (15).jpg.txt_cow_4 is to the left of download (15).jpg.txt_cow_5',\n",
       " 'download (15).jpg.txt_cow_4 is to the right of download (15).jpg.txt_cow_5',\n",
       " 'download (15).jpg.txt_cow_4 is to the right of download (15).jpg.txt_cow_5',\n",
       " 'download (15).jpg.txt_cow_4 is to the right of download (15).jpg.txt_cow_5',\n",
       " 'download (15).jpg.txt_cow_4 is to the right of download (15).jpg.txt_cow_5',\n",
       " 'download (15).jpg.txt_cow_4 is to the right of download (15).jpg.txt_cow_5',\n",
       " 'download (15).jpg.txt_cow_4 is to the right of download (15).jpg.txt_cow_5',\n",
       " 'download (15).jpg.txt_cow_5 is to the left of download (15).jpg.txt_elephant_2',\n",
       " 'download (15).jpg.txt_cow_5 is to the right of download (15).jpg.txt_elephant_2',\n",
       " 'download (15).jpg.txt_cow_5 is to the right of download (15).jpg.txt_elephant_2',\n",
       " 'download (15).jpg.txt_cow_5 is to the right of download (15).jpg.txt_elephant_2',\n",
       " 'download (15).jpg.txt_cow_5 is to the right of download (15).jpg.txt_elephant_2',\n",
       " 'download (15).jpg.txt_cow_5 is to the right of download (15).jpg.txt_elephant_2',\n",
       " 'download (15).jpg.txt_elephant_6 is to the left of download (15).jpg.txt_elephant_0',\n",
       " 'download (15).jpg.txt_elephant_6 is to the left of download (15).jpg.txt_cow_1',\n",
       " 'download (15).jpg.txt_elephant_6 is to the left of download (15).jpg.txt_elephant_2',\n",
       " 'download (15).jpg.txt_elephant_6 is to the right of download (15).jpg.txt_elephant_2',\n",
       " 'download (15).jpg.txt_elephant_6 is to the left of download (15).jpg.txt_cow_4',\n",
       " 'download (15).jpg.txt_elephant_6 is to the left of download (15).jpg.txt_elephant_7',\n",
       " 'download (15).jpg.txt_elephant_6 is to the left of download (10).jpg.txt_cat_8',\n",
       " 'download (15).jpg.txt_elephant_6 is to the right of download (10).jpg.txt_cat_8',\n",
       " 'download (15).jpg.txt_elephant_7 is to the left of download (15).jpg.txt_elephant_0',\n",
       " 'download (15).jpg.txt_elephant_7 is to the right of download (15).jpg.txt_elephant_0',\n",
       " 'download (15).jpg.txt_elephant_7 is to the left of download (15).jpg.txt_elephant_2',\n",
       " 'download (15).jpg.txt_elephant_7 is to the right of download (15).jpg.txt_elephant_2',\n",
       " 'download (15).jpg.txt_elephant_7 is to the left of download (15).jpg.txt_cow_4',\n",
       " 'download (15).jpg.txt_elephant_7 is to the left of download (15).jpg.txt_cow_5',\n",
       " 'download (15).jpg.txt_elephant_7 is to the left of download (10).jpg.txt_cat_8',\n",
       " 'download (15).jpg.txt_elephant_7 is to the right of download (10).jpg.txt_cat_8',\n",
       " 'download (10).jpg.txt_cat_8 is to the left of download (15).jpg.txt_elephant_0',\n",
       " 'download (10).jpg.txt_cat_8 is to the right of download (15).jpg.txt_elephant_0',\n",
       " 'download (10).jpg.txt_cat_8 is to the left of download (15).jpg.txt_elephant_2',\n",
       " 'download (10).jpg.txt_cat_8 is to the right of download (15).jpg.txt_elephant_2',\n",
       " 'download (10).jpg.txt_cat_8 is to the left of download (15).jpg.txt_cow_4',\n",
       " 'download (10).jpg.txt_cat_8 is to the left of download (15).jpg.txt_cow_5',\n",
       " 'download (10).jpg.txt_cat_8 is to the right of download (15).jpg.txt_cow_5',\n",
       " 'download (10).jpg.txt_cat_8 is to the right of download (15).jpg.txt_cow_5',\n",
       " 'download (10).jpg.txt_cup_9 is to the left of download (15).jpg.txt_elephant_0',\n",
       " 'download (10).jpg.txt_cup_9 is to the left of download (15).jpg.txt_cow_1',\n",
       " 'download (10).jpg.txt_cup_9 is to the left of download (15).jpg.txt_elephant_2',\n",
       " 'download (10).jpg.txt_cup_9 is to the right of download (15).jpg.txt_elephant_2',\n",
       " 'download (10).jpg.txt_cup_9 is to the left of download (15).jpg.txt_cow_4',\n",
       " 'download (10).jpg.txt_cup_9 is to the left of download (15).jpg.txt_cow_5',\n",
       " 'download (10).jpg.txt_cup_9 is to the left of download (15).jpg.txt_elephant_6',\n",
       " 'download (10).jpg.txt_cup_9 is to the left of download (15).jpg.txt_elephant_7']"
      ]
     },
     "execution_count": 67,
     "metadata": {},
     "output_type": "execute_result"
    }
   ],
   "source": [
    "relations"
   ]
  },
  {
   "cell_type": "code",
   "execution_count": null,
   "metadata": {},
   "outputs": [],
   "source": []
  }
 ],
 "metadata": {
  "kernelspec": {
   "display_name": "Python 3",
   "language": "python",
   "name": "python3"
  },
  "language_info": {
   "codemirror_mode": {
    "name": "ipython",
    "version": 3
   },
   "file_extension": ".py",
   "mimetype": "text/x-python",
   "name": "python",
   "nbconvert_exporter": "python",
   "pygments_lexer": "ipython3",
   "version": "3.7.6"
  }
 },
 "nbformat": 4,
 "nbformat_minor": 2
}
