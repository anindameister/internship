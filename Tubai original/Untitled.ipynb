{
 "cells": [
  {
   "cell_type": "code",
   "execution_count": 1,
   "metadata": {},
   "outputs": [],
   "source": [
    "import pandas as pd\n",
    "import math\n",
    "df = pd.read_csv('H:\\my university files\\internship now\\github\\jonathan output file\\imageHasOnLeftRightCenterTopBottom.csv')\n"
   ]
  },
  {
   "cell_type": "code",
   "execution_count": 2,
   "metadata": {},
   "outputs": [],
   "source": [
    "\n",
    "diagonal_object_values=[]\n",
    "X_Image_Dimentions_values=[]\n",
    "Y_Image_Dimentions_values=[]\n",
    "x1_values=[]\n",
    "x2_values=[]\n",
    "y1_values=[]\n",
    "y2_values=[]\n",
    "x_values = [] \n",
    "object_name_list=[]\n",
    "Image_name_list=[]\n",
    "y_values=[]\n",
    "\n",
    "\n",
    "for _,row in df.iterrows():\n",
    "\n",
    "    x_values.append(row['X-centre'])\n",
    "    object_name_list.append(row['object name'])\n",
    "    Image_name_list.append(row['Image name'])\n",
    "    y_values.append(row['Y-centre'])\n",
    "    diagonal_object_values.append(row['diagonal object'])\n",
    "    x1_values.append(row['X1'])\n",
    "    x2_values.append(row['X2'])\n",
    "    y1_values.append(row['Y1'])\n",
    "    y2_values.append(row['Y2'])\n",
    "    X_Image_Dimentions_values.append(row['X-Image Dimentions'])\n",
    "    Y_Image_Dimentions_values.append(row['Y-Image Dimentions'])\n",
    "                                         "
   ]
  },
  {
   "cell_type": "code",
   "execution_count": 5,
   "metadata": {},
   "outputs": [
    {
     "ename": "ModuleNotFoundError",
     "evalue": "No module named 'closest'",
     "output_type": "error",
     "traceback": [
      "\u001b[1;31m---------------------------------------------------------------------------\u001b[0m",
      "\u001b[1;31mModuleNotFoundError\u001b[0m                       Traceback (most recent call last)",
      "\u001b[1;32m<ipython-input-5-63e758709e57>\u001b[0m in \u001b[0;36m<module>\u001b[1;34m\u001b[0m\n\u001b[1;32m----> 1\u001b[1;33m \u001b[1;32mfrom\u001b[0m \u001b[0mclosest\u001b[0m \u001b[1;32mimport\u001b[0m \u001b[0mtake_closest\u001b[0m\u001b[1;33m\u001b[0m\u001b[1;33m\u001b[0m\u001b[0m\n\u001b[0m",
      "\u001b[1;31mModuleNotFoundError\u001b[0m: No module named 'closest'"
     ]
    }
   ],
   "source": []
  },
  {
   "cell_type": "code",
   "execution_count": null,
   "metadata": {},
   "outputs": [],
   "source": []
  }
 ],
 "metadata": {
  "kernelspec": {
   "display_name": "Python 3",
   "language": "python",
   "name": "python3"
  },
  "language_info": {
   "codemirror_mode": {
    "name": "ipython",
    "version": 3
   },
   "file_extension": ".py",
   "mimetype": "text/x-python",
   "name": "python",
   "nbconvert_exporter": "python",
   "pygments_lexer": "ipython3",
   "version": "3.7.6"
  }
 },
 "nbformat": 4,
 "nbformat_minor": 4
}
