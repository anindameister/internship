{
 "cells": [
  {
   "cell_type": "code",
   "execution_count": 1,
   "metadata": {},
   "outputs": [],
   "source": [
    "import pandas as pd\n",
    "import math\n",
    "df = pd.read_csv('H:\\my university files\\internship now\\github\\jonathan output file\\image15x3y4.csv')\n",
    "#H:\\my university files\\internship now\\github\\jonathan output file\\imageHasOnLeftRightCenterTopBottom.csv"
   ]
  },
  {
   "cell_type": "code",
   "execution_count": 2,
   "metadata": {},
   "outputs": [],
   "source": [
    "diagonal_object_values=[]\n",
    "X_Image_Dimentions_values=[]\n",
    "Y_Image_Dimentions_values=[]\n",
    "x1_values=[]\n",
    "x2_values=[]\n",
    "y1_values=[]\n",
    "y2_values=[]\n",
    "x3_values=[]\n",
    "x4_values=[]\n",
    "y3_values=[]\n",
    "y4_values=[] \n",
    "x_values = [] \n",
    "object_name_list=[]\n",
    "Image_name_list=[]\n",
    "y_values=[]\n",
    "for _,row in df.iterrows():\n",
    "\n",
    "    x_values.append(row['X-centre'])\n",
    "    object_name_list.append(row['object name'])\n",
    "    Image_name_list.append(row['Image name'])\n",
    "    y_values.append(row['Y-centre'])\n",
    "    diagonal_object_values.append(row['diagonal object'])\n",
    "    x1_values.append(row['X1'])\n",
    "    x2_values.append(row['X2'])\n",
    "    y1_values.append(row['Y1'])\n",
    "    y2_values.append(row['Y2'])\n",
    "    x3_values.append(row['X3'])\n",
    "    x4_values.append(row['X4'])\n",
    "    y3_values.append(row['Y3'])\n",
    "    y4_values.append(row['Y4'])\n",
    "    X_Image_Dimentions_values.append(row['X-Image Dimentions'])\n",
    "    Y_Image_Dimentions_values.append(row['Y-Image Dimentions'])\n",
    "                                         "
   ]
  },
  {
   "cell_type": "code",
   "execution_count": 3,
   "metadata": {},
   "outputs": [
    {
     "name": "stdout",
     "output_type": "stream",
     "text": [
      "elephant is far from cow\n",
      "elephant is close to elephant\n",
      "elephant is far from cow\n",
      "elephant is far from cow\n",
      "elephant is close to cow\n",
      "elephant is far from elephant\n",
      "elephant is far from elephant\n",
      "elephant is far from elephant\n",
      "cow is far from elephant\n",
      "cow is far from cow\n",
      "cow is far from cow\n",
      "cow is far from cow\n",
      "cow is far from elephant\n",
      "cow is close to elephant\n",
      "cow is far from elephant\n",
      "elephant is far from cow\n",
      "elephant is far from cow\n",
      "elephant is close to cow\n",
      "elephant is far from elephant\n",
      "elephant is far from elephant\n",
      "elephant is far from elephant\n",
      "cow is far from cow\n",
      "cow is far from cow\n",
      "cow is close to elephant\n",
      "cow is far from elephant\n",
      "cow is far from elephant\n",
      "cow is far from cow\n",
      "cow is far from elephant\n",
      "cow is far from elephant\n",
      "cow is far from elephant\n",
      "cow is far from elephant\n",
      "cow is far from elephant\n",
      "cow is far from elephant\n",
      "elephant is far from elephant\n",
      "elephant is far from elephant\n",
      "elephant is far from elephant\n"
     ]
    }
   ],
   "source": [
    "for i in range(len(y_values)):\n",
    "    for j in range(i + 1, len(y_values)):\n",
    "        if ((diagonal_object_values[i]+diagonal_object_values[j])/2)>(math.sqrt((x_values[i]-x_values[j])**2)+(y_values[i]-y_values[j])**2):\n",
    "           print(object_name_list[i],\"is close to\",object_name_list[j])\n",
    "        else:\n",
    "            print(object_name_list[i],\"is far from\",object_name_list[j])\n",
    "    "
   ]
  },
  {
   "cell_type": "code",
   "execution_count": 4,
   "metadata": {},
   "outputs": [
    {
     "name": "stdout",
     "output_type": "stream",
     "text": [
      "elephant is smaller than cow\n",
      "elephant is greater than elephant\n",
      "elephant is greater than cow\n",
      "elephant is greater than cow\n",
      "elephant is smaller than cow\n",
      "elephant is greater than elephant\n",
      "elephant is smaller than elephant\n",
      "elephant is greater than elephant\n",
      "cow is greater than elephant\n",
      "cow is greater than cow\n",
      "cow is greater than cow\n",
      "cow is greater than cow\n",
      "cow is greater than elephant\n",
      "cow is smaller than elephant\n",
      "cow is greater than elephant\n",
      "elephant is smaller than cow\n",
      "elephant is greater than cow\n",
      "elephant is smaller than cow\n",
      "elephant is greater than elephant\n",
      "elephant is smaller than elephant\n",
      "elephant is greater than elephant\n",
      "cow is greater than cow\n",
      "cow is smaller than cow\n",
      "cow is greater than elephant\n",
      "cow is smaller than elephant\n",
      "cow is greater than elephant\n",
      "cow is smaller than cow\n",
      "cow is smaller than elephant\n",
      "cow is smaller than elephant\n",
      "cow is greater than elephant\n",
      "cow is greater than elephant\n",
      "cow is smaller than elephant\n",
      "cow is greater than elephant\n",
      "elephant is smaller than elephant\n",
      "elephant is greater than elephant\n",
      "elephant is greater than elephant\n"
     ]
    }
   ],
   "source": [
    "for i in range(len(y_values)):\n",
    "    for j in range(i + 1, len(y_values)):    \n",
    "        if ((y1_values[i]-y2_values[i])*(x1_values[i]-x2_values[i]))>((y1_values[j]-y2_values[j])*(x1_values[j]-x2_values[j])):\n",
    "           print(object_name_list[i],\"is greater than\",object_name_list[j])\n",
    "        else:\n",
    "            print(object_name_list[i],\"is smaller than\",object_name_list[j])"
   ]
  },
  {
   "cell_type": "code",
   "execution_count": 6,
   "metadata": {},
   "outputs": [
    {
     "name": "stdout",
     "output_type": "stream",
     "text": [
      "elephant doesn't overlap cow\n",
      "elephant doesn't overlap elephant\n",
      "elephant doesn't overlap cow\n",
      "elephant doesn't overlap cow\n",
      "elephant overlaps cow\n",
      "elephant doesn't overlap elephant\n",
      "elephant doesn't overlap elephant\n",
      "elephant doesn't overlap elephant\n",
      "cow doesn't overlap elephant\n",
      "cow doesn't overlap cow\n",
      "cow doesn't overlap cow\n",
      "cow doesn't overlap cow\n",
      "cow overlaps elephant\n",
      "cow overlaps elephant\n",
      "cow doesn't overlap elephant\n",
      "elephant doesn't overlap cow\n",
      "elephant doesn't overlap cow\n",
      "elephant overlaps cow\n",
      "elephant doesn't overlap elephant\n",
      "elephant doesn't overlap elephant\n",
      "elephant doesn't overlap elephant\n",
      "cow doesn't overlap cow\n",
      "cow doesn't overlap cow\n",
      "cow overlaps elephant\n",
      "cow doesn't overlap elephant\n",
      "cow doesn't overlap elephant\n",
      "cow doesn't overlap cow\n",
      "cow doesn't overlap elephant\n",
      "cow doesn't overlap elephant\n",
      "cow overlaps elephant\n",
      "cow doesn't overlap elephant\n",
      "cow doesn't overlap elephant\n",
      "cow doesn't overlap elephant\n",
      "elephant overlaps elephant\n",
      "elephant doesn't overlap elephant\n",
      "elephant overlaps elephant\n"
     ]
    }
   ],
   "source": [
    "\n",
    "from shapely.geometry import Polygon\n",
    "for i in range(len(y_values)):\n",
    "    for j in range(i + 1, len(y_values)): \n",
    "        p1=Polygon([(x1_values[i],y1_values[i]),(x2_values[i],y2_values[i]),(x1_values[i],y2_values[i]),(x2_values[i],y1_values[i])])\n",
    "        p2=Polygon([(x1_values[j],y1_values[j]),(x2_values[j],y2_values[j]),(x1_values[j],y2_values[j]),(x2_values[j],y1_values[j])])\n",
    "        if p1.intersects(p2)==True:\n",
    "            print(object_name_list[i],\"overlaps\",object_name_list[j])\n",
    "        else:\n",
    "            print(object_name_list[i],\"doesn't overlap\",object_name_list[j])\n",
    "            \n",
    "            "
   ]
  },
  {
   "cell_type": "code",
   "execution_count": null,
   "metadata": {},
   "outputs": [],
   "source": []
  }
 ],
 "metadata": {
  "kernelspec": {
   "display_name": "Python 3",
   "language": "python",
   "name": "python3"
  },
  "language_info": {
   "codemirror_mode": {
    "name": "ipython",
    "version": 3
   },
   "file_extension": ".py",
   "mimetype": "text/x-python",
   "name": "python",
   "nbconvert_exporter": "python",
   "pygments_lexer": "ipython3",
   "version": "3.7.6"
  }
 },
 "nbformat": 4,
 "nbformat_minor": 4
}
