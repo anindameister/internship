{
 "cells": [
  {
   "cell_type": "code",
   "execution_count": 14,
   "metadata": {
    "scrolled": true
   },
   "outputs": [],
   "source": [
    "import wikipedia\n",
    "import pandas as pd\n",
    "\n",
    "page = wikipedia.page(\"elephant\")\n",
    "\n",
    "\n",
    "af = pd.DataFrame(data={\"object_1\": page.images[0:]})\n",
    "af.to_csv(\"./imgs_url.csv\", sep=',',index=False)"
   ]
  },
  {
   "cell_type": "code",
   "execution_count": 10,
   "metadata": {},
   "outputs": [
    {
     "data": {
      "text/plain": [
       "('local-filename.jpg', <http.client.HTTPMessage at 0x16e12c961c8>)"
      ]
     },
     "execution_count": 10,
     "metadata": {},
     "output_type": "execute_result"
    }
   ],
   "source": [
    "import urllib.request\n",
    "import wikipedia\n",
    "page = wikipedia.page(\"elephant\")\n",
    "image_link = page.images[0]\n",
    "urllib.request.urlretrieve(image_link , \"local-filename.jpg\")"
   ]
  },
  {
   "cell_type": "code",
   "execution_count": null,
   "metadata": {},
   "outputs": [],
   "source": [
    "# import modules\n",
    "import pandas as pd\n",
    "import urllib.request\n",
    "def url2jpg(i,url,file_path):\n",
    "    \"\"\"\n",
    "    --i :number of images\n",
    "    --url:url address\n",
    "    --filepath:where to save the final image\n",
    "    \"\"\"\n",
    "    filename='image-{}.jpg'.format(i)\n",
    "    full_path=\"{}{}\".format(file_path, filename)\n",
    "    urllib.request.urlretrieve(url, filepath)\n",
    "    return None\n",
    "# set constants\n",
    "filename=\"imgs_url.csv\"\n",
    "filepath='/images'\n",
    "#read lists of url using pandas dataframe\n",
    "urls=pd.read_csv(filename)\n",
    "# save images to the directory by iterating through the list\n",
    "for i,url in enumerate(urls.values):\n",
    "    url2jpg(i,url[0],filepath)\n"
   ]
  },
  {
   "cell_type": "code",
   "execution_count": null,
   "metadata": {},
   "outputs": [],
   "source": []
  }
 ],
 "metadata": {
  "kernelspec": {
   "display_name": "Python 3",
   "language": "python",
   "name": "python3"
  },
  "language_info": {
   "codemirror_mode": {
    "name": "ipython",
    "version": 3
   },
   "file_extension": ".py",
   "mimetype": "text/x-python",
   "name": "python",
   "nbconvert_exporter": "python",
   "pygments_lexer": "ipython3",
   "version": "3.7.6"
  }
 },
 "nbformat": 4,
 "nbformat_minor": 4
}
