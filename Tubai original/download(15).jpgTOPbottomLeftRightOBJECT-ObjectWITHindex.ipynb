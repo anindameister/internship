{
 "cells": [
  {
   "cell_type": "code",
   "execution_count": 19,
   "metadata": {},
   "outputs": [],
   "source": [
    "import pandas as pd\n"
   ]
  },
  {
   "cell_type": "code",
   "execution_count": 20,
   "metadata": {},
   "outputs": [],
   "source": [
    "df=pd.read_csv(\"H:\\my university files\\internship now\\github\\jonathan output file\\image15.csv\")\n",
    "#H:\\my university files\\internship now\\github\\jonathan output file\\imageHasOnLeftRightCenterTopBottom.csv\n",
    "#H:\\my university files\\internship now\\github\\5th may2020\\me\\image15.csv"
   ]
  },
  {
   "cell_type": "code",
   "execution_count": 21,
   "metadata": {},
   "outputs": [
    {
     "data": {
      "text/html": [
       "<div>\n",
       "<style scoped>\n",
       "    .dataframe tbody tr th:only-of-type {\n",
       "        vertical-align: middle;\n",
       "    }\n",
       "\n",
       "    .dataframe tbody tr th {\n",
       "        vertical-align: top;\n",
       "    }\n",
       "\n",
       "    .dataframe thead th {\n",
       "        text-align: right;\n",
       "    }\n",
       "</style>\n",
       "<table border=\"1\" class=\"dataframe\">\n",
       "  <thead>\n",
       "    <tr style=\"text-align: right;\">\n",
       "      <th></th>\n",
       "      <th>Image name</th>\n",
       "      <th>X1</th>\n",
       "      <th>Y1</th>\n",
       "      <th>X2</th>\n",
       "      <th>Y2</th>\n",
       "      <th>object name</th>\n",
       "      <th>X-centre</th>\n",
       "      <th>Y-centre</th>\n",
       "      <th>X-Image Dimentions</th>\n",
       "      <th>Y-Image Dimentions</th>\n",
       "      <th>diagonal object</th>\n",
       "      <th>has on the left</th>\n",
       "      <th>has on the right</th>\n",
       "      <th>has on the top</th>\n",
       "      <th>has on the bottom</th>\n",
       "      <th>has in the center</th>\n",
       "      <th>index</th>\n",
       "    </tr>\n",
       "  </thead>\n",
       "  <tbody>\n",
       "    <tr>\n",
       "      <th>0</th>\n",
       "      <td>download (15).jpg</td>\n",
       "      <td>196</td>\n",
       "      <td>55</td>\n",
       "      <td>255</td>\n",
       "      <td>114</td>\n",
       "      <td>elephant</td>\n",
       "      <td>225.5</td>\n",
       "      <td>84.5</td>\n",
       "      <td>300</td>\n",
       "      <td>168</td>\n",
       "      <td>83.438600</td>\n",
       "      <td>na</td>\n",
       "      <td>elephant</td>\n",
       "      <td>na</td>\n",
       "      <td>na</td>\n",
       "      <td>na</td>\n",
       "      <td>0</td>\n",
       "    </tr>\n",
       "    <tr>\n",
       "      <th>1</th>\n",
       "      <td>download (15).jpg</td>\n",
       "      <td>77</td>\n",
       "      <td>58</td>\n",
       "      <td>155</td>\n",
       "      <td>115</td>\n",
       "      <td>cow</td>\n",
       "      <td>116.0</td>\n",
       "      <td>86.5</td>\n",
       "      <td>300</td>\n",
       "      <td>168</td>\n",
       "      <td>96.607453</td>\n",
       "      <td>na</td>\n",
       "      <td>na</td>\n",
       "      <td>na</td>\n",
       "      <td>na</td>\n",
       "      <td>cow</td>\n",
       "      <td>1</td>\n",
       "    </tr>\n",
       "    <tr>\n",
       "      <th>2</th>\n",
       "      <td>download (15).jpg</td>\n",
       "      <td>254</td>\n",
       "      <td>50</td>\n",
       "      <td>299</td>\n",
       "      <td>116</td>\n",
       "      <td>elephant</td>\n",
       "      <td>276.5</td>\n",
       "      <td>83.0</td>\n",
       "      <td>300</td>\n",
       "      <td>168</td>\n",
       "      <td>79.881162</td>\n",
       "      <td>na</td>\n",
       "      <td>elephant</td>\n",
       "      <td>na</td>\n",
       "      <td>na</td>\n",
       "      <td>na</td>\n",
       "      <td>2</td>\n",
       "    </tr>\n",
       "    <tr>\n",
       "      <th>3</th>\n",
       "      <td>download (15).jpg</td>\n",
       "      <td>7</td>\n",
       "      <td>74</td>\n",
       "      <td>71</td>\n",
       "      <td>122</td>\n",
       "      <td>cow</td>\n",
       "      <td>39.0</td>\n",
       "      <td>98.0</td>\n",
       "      <td>300</td>\n",
       "      <td>168</td>\n",
       "      <td>80.000000</td>\n",
       "      <td>cow</td>\n",
       "      <td>na</td>\n",
       "      <td>na</td>\n",
       "      <td>na</td>\n",
       "      <td>na</td>\n",
       "      <td>3</td>\n",
       "    </tr>\n",
       "    <tr>\n",
       "      <th>4</th>\n",
       "      <td>download (15).jpg</td>\n",
       "      <td>171</td>\n",
       "      <td>83</td>\n",
       "      <td>194</td>\n",
       "      <td>118</td>\n",
       "      <td>cow</td>\n",
       "      <td>182.5</td>\n",
       "      <td>100.5</td>\n",
       "      <td>300</td>\n",
       "      <td>168</td>\n",
       "      <td>41.880783</td>\n",
       "      <td>na</td>\n",
       "      <td>na</td>\n",
       "      <td>na</td>\n",
       "      <td>na</td>\n",
       "      <td>cow</td>\n",
       "      <td>4</td>\n",
       "    </tr>\n",
       "  </tbody>\n",
       "</table>\n",
       "</div>"
      ],
      "text/plain": [
       "          Image name   X1  Y1   X2   Y2 object name  X-centre  Y-centre  \\\n",
       "0  download (15).jpg  196  55  255  114    elephant     225.5      84.5   \n",
       "1  download (15).jpg   77  58  155  115         cow     116.0      86.5   \n",
       "2  download (15).jpg  254  50  299  116    elephant     276.5      83.0   \n",
       "3  download (15).jpg    7  74   71  122         cow      39.0      98.0   \n",
       "4  download (15).jpg  171  83  194  118         cow     182.5     100.5   \n",
       "\n",
       "   X-Image Dimentions  Y-Image Dimentions  diagonal object has on the left  \\\n",
       "0                 300                 168        83.438600              na   \n",
       "1                 300                 168        96.607453              na   \n",
       "2                 300                 168        79.881162              na   \n",
       "3                 300                 168        80.000000             cow   \n",
       "4                 300                 168        41.880783              na   \n",
       "\n",
       "  has on the right has on the top has on the bottom has in the center  index  \n",
       "0         elephant             na                na                na      0  \n",
       "1               na             na                na               cow      1  \n",
       "2         elephant             na                na                na      2  \n",
       "3               na             na                na                na      3  \n",
       "4               na             na                na               cow      4  "
      ]
     },
     "execution_count": 21,
     "metadata": {},
     "output_type": "execute_result"
    }
   ],
   "source": [
    "df.head()"
   ]
  },
  {
   "cell_type": "code",
   "execution_count": 26,
   "metadata": {},
   "outputs": [],
   "source": [
    "# object_id_list = []\n",
    "x_values = []\n",
    "y_values=[]\n",
    "relations = []\n",
    "relationship=[]\n",
    "for _,row in df.iterrows():\n",
    "#     object_id_list.append(row['object id'])\n",
    "    x_values.append(row['X-centre'])\n",
    "    y_values.append(row['Y-centre'])"
   ]
  },
  {
   "cell_type": "code",
   "execution_count": 23,
   "metadata": {},
   "outputs": [],
   "source": [
    "def remove_value(current_element_index, current_list):\n",
    "    if current_element_index==0:\n",
    "        new_list = current_list[1:]\n",
    "        return new_list\n",
    "    new_list = current_list[:current_element_index-1]+current_list[current_element_index:] #new_list=empty list+\n",
    "    return new_list"
   ]
  },
  {
   "cell_type": "code",
   "execution_count": 27,
   "metadata": {},
   "outputs": [],
   "source": [
    "for index,current_element in enumerate(x_values):\n",
    "    new_x_values = remove_value(index, x_values)\n",
    "    for new_element in new_x_values:\n",
    "        if current_element<new_element:\n",
    "            relations.append(f'object {x_values.index(current_element)} is to the left of object {x_values.index(new_element)}')\n",
    "        if current_element>new_element:\n",
    "            relations.append(f'object {x_values.index(current_element)} is to the right of object {x_values.index(new_element)}')\n",
    "        "
   ]
  },
  {
   "cell_type": "code",
   "execution_count": 28,
   "metadata": {},
   "outputs": [],
   "source": [
    "for index,current_element in enumerate(y_values):\n",
    "    new_y_values = remove_value(index, y_values)\n",
    "    for new_element in new_y_values:\n",
    "        if current_element<new_element:\n",
    "            relationship.append(f'object {y_values.index(current_element)} is to the top of object {y_values.index(new_element)}')\n",
    "        if current_element>new_element:\n",
    "            relationship.append(f'object {y_values.index(current_element)} is to the bottom of object {y_values.index(new_element)}')\n",
    "        "
   ]
  },
  {
   "cell_type": "code",
   "execution_count": 43,
   "metadata": {},
   "outputs": [],
   "source": [
    "x=[1,2,3,4]\n",
    "a=x[:3]"
   ]
  },
  {
   "cell_type": "code",
   "execution_count": 44,
   "metadata": {},
   "outputs": [
    {
     "data": {
      "text/plain": [
       "[1, 2, 3]"
      ]
     },
     "execution_count": 44,
     "metadata": {},
     "output_type": "execute_result"
    }
   ],
   "source": [
    "a"
   ]
  },
  {
   "cell_type": "code",
   "execution_count": 46,
   "metadata": {},
   "outputs": [
    {
     "data": {
      "text/plain": [
       "[]"
      ]
     },
     "execution_count": 46,
     "metadata": {},
     "output_type": "execute_result"
    }
   ],
   "source": [
    "x[1:0]"
   ]
  },
  {
   "cell_type": "code",
   "execution_count": null,
   "metadata": {},
   "outputs": [],
   "source": []
  }
 ],
 "metadata": {
  "kernelspec": {
   "display_name": "Python 3",
   "language": "python",
   "name": "python3"
  },
  "language_info": {
   "codemirror_mode": {
    "name": "ipython",
    "version": 3
   },
   "file_extension": ".py",
   "mimetype": "text/x-python",
   "name": "python",
   "nbconvert_exporter": "python",
   "pygments_lexer": "ipython3",
   "version": "3.7.6"
  }
 },
 "nbformat": 4,
 "nbformat_minor": 4
}
